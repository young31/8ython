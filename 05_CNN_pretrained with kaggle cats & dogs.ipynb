{
 "cells": [
  {
   "cell_type": "code",
   "execution_count": 1,
   "metadata": {},
   "outputs": [
    {
     "name": "stderr",
     "output_type": "stream",
     "text": [
      "Using TensorFlow backend.\n"
     ]
    }
   ],
   "source": [
    "import pandas as pd\n",
    "import numpy as np\n",
    "import keras\n",
    "import matplotlib.pyplot as plt"
   ]
  },
  {
   "cell_type": "code",
   "execution_count": 2,
   "metadata": {},
   "outputs": [],
   "source": [
    "data_from_dir = 'C:/Users/young/Desktop/R/cats-dogs'\n",
    "base_dir = base_dir='C:/Users/young/Desktop/R/kaggle_cat'\n",
    "\n",
    "train_dir='C:/Users/young/Desktop/R/kaggle_cat/train'\n",
    "val_dir='C:/Users/young/Desktop/R/kaggle_cat/val'\n",
    "test_dir='C:/Users/young/Desktop/R/kaggle_cat/test'\n",
    "\n",
    "train_cats_dir=f'C:/Users/young/Desktop/R/kaggle_cat/train/cats'\n",
    "train_dogs_dir='C:/Users/young/Desktop/R/kaggle_cat/train/dogs'\n",
    "val_cats_dir='C:/Users/young/Desktop/R/kaggle_cat/val/cats'\n",
    "val_dogs_dir='C:/Users/young/Desktop/R/kaggle_cat/val/dogs'\n",
    "test_cats_dir='C:/Users/young/Desktop/R/kaggle_cat/test/cats'\n",
    "test_dogs_dir='C:/Users/young/Desktop/R/kaggle_cat/test/dogs'\n"
   ]
  },
  {
   "cell_type": "code",
   "execution_count": 2,
   "metadata": {},
   "outputs": [
    {
     "ename": "NameError",
     "evalue": "name 'train_dir' is not defined",
     "output_type": "error",
     "traceback": [
      "\u001b[1;31m---------------------------------------------------------------------------\u001b[0m",
      "\u001b[1;31mNameError\u001b[0m                                 Traceback (most recent call last)",
      "\u001b[1;32m<ipython-input-2-19e4fd0e3bf9>\u001b[0m in \u001b[0;36m<module>\u001b[1;34m\u001b[0m\n\u001b[0;32m      5\u001b[0m \u001b[0mdata_gen\u001b[0m \u001b[1;33m=\u001b[0m \u001b[0mImageDataGenerator\u001b[0m\u001b[1;33m(\u001b[0m\u001b[0mrescale\u001b[0m \u001b[1;33m=\u001b[0m \u001b[1;36m1\u001b[0m\u001b[1;33m/\u001b[0m\u001b[1;36m255\u001b[0m\u001b[1;33m)\u001b[0m\u001b[1;33m\u001b[0m\u001b[1;33m\u001b[0m\u001b[0m\n\u001b[0;32m      6\u001b[0m \u001b[1;33m\u001b[0m\u001b[0m\n\u001b[1;32m----> 7\u001b[1;33m train_gen = train_data_gen.flow_from_directory(train_dir,\n\u001b[0m\u001b[0;32m      8\u001b[0m                                         \u001b[0mtarget_size\u001b[0m\u001b[1;33m=\u001b[0m\u001b[1;33m(\u001b[0m\u001b[1;36m150\u001b[0m\u001b[1;33m,\u001b[0m\u001b[1;36m150\u001b[0m\u001b[1;33m)\u001b[0m\u001b[1;33m,\u001b[0m\u001b[1;33m\u001b[0m\u001b[1;33m\u001b[0m\u001b[0m\n\u001b[0;32m      9\u001b[0m                                         \u001b[0mbatch_size\u001b[0m\u001b[1;33m=\u001b[0m\u001b[1;36m20\u001b[0m\u001b[1;33m,\u001b[0m\u001b[1;33m\u001b[0m\u001b[1;33m\u001b[0m\u001b[0m\n",
      "\u001b[1;31mNameError\u001b[0m: name 'train_dir' is not defined"
     ]
    }
   ],
   "source": [
    "from keras.preprocessing.image import ImageDataGenerator\n",
    "\n",
    "train_data_gen = ImageDataGenerator(rescale = 1/255,\n",
    "                             zoom_range= 0.2)\n",
    "data_gen = ImageDataGenerator(rescale = 1/255)\n",
    "\n",
    "train_gen = train_data_gen.flow_from_directory(train_dir,\n",
    "                                        target_size=(150,150),\n",
    "                                        batch_size=20,\n",
    "                                        class_mode='binary')\n",
    "val_gen = data_gen.flow_from_directory(val_dir,\n",
    "                                        target_size=(150,150),\n",
    "                                        batch_size=20,\n",
    "                                        class_mode='binary')\n",
    "test_gen = data_gen.flow_from_directory(test_dir,\n",
    "                                        target_size=(150,150),\n",
    "                                        batch_size=20,\n",
    "                                        class_mode='binary')"
   ]
  },
  {
   "cell_type": "code",
   "execution_count": 4,
   "metadata": {
    "scrolled": true
   },
   "outputs": [
    {
     "name": "stderr",
     "output_type": "stream",
     "text": [
      "WARNING: Logging before flag parsing goes to stderr.\n",
      "W0715 11:17:03.641072 15500 deprecation_wrapper.py:119] From c:\\users\\student\\appdata\\local\\programs\\python\\python37\\lib\\site-packages\\keras\\backend\\tensorflow_backend.py:74: The name tf.get_default_graph is deprecated. Please use tf.compat.v1.get_default_graph instead.\n",
      "\n",
      "W0715 11:17:03.653003 15500 deprecation_wrapper.py:119] From c:\\users\\student\\appdata\\local\\programs\\python\\python37\\lib\\site-packages\\keras\\backend\\tensorflow_backend.py:517: The name tf.placeholder is deprecated. Please use tf.compat.v1.placeholder instead.\n",
      "\n",
      "W0715 11:17:03.654063 15500 deprecation_wrapper.py:119] From c:\\users\\student\\appdata\\local\\programs\\python\\python37\\lib\\site-packages\\keras\\backend\\tensorflow_backend.py:4138: The name tf.random_uniform is deprecated. Please use tf.random.uniform instead.\n",
      "\n",
      "W0715 11:17:03.671003 15500 deprecation_wrapper.py:119] From c:\\users\\student\\appdata\\local\\programs\\python\\python37\\lib\\site-packages\\keras\\backend\\tensorflow_backend.py:3976: The name tf.nn.max_pool is deprecated. Please use tf.nn.max_pool2d instead.\n",
      "\n"
     ]
    },
    {
     "name": "stdout",
     "output_type": "stream",
     "text": [
      "Downloading data from https://github.com/fchollet/deep-learning-models/releases/download/v0.1/vgg16_weights_tf_dim_ordering_tf_kernels_notop.h5\n",
      "58892288/58889256 [==============================] - 9s 0us/step\n"
     ]
    },
    {
     "name": "stderr",
     "output_type": "stream",
     "text": [
      "W0715 11:17:13.905769 15500 deprecation_wrapper.py:119] From c:\\users\\student\\appdata\\local\\programs\\python\\python37\\lib\\site-packages\\keras\\backend\\tensorflow_backend.py:174: The name tf.get_default_session is deprecated. Please use tf.compat.v1.get_default_session instead.\n",
      "\n",
      "W0715 11:17:13.906716 15500 deprecation_wrapper.py:119] From c:\\users\\student\\appdata\\local\\programs\\python\\python37\\lib\\site-packages\\keras\\backend\\tensorflow_backend.py:181: The name tf.ConfigProto is deprecated. Please use tf.compat.v1.ConfigProto instead.\n",
      "\n"
     ]
    },
    {
     "name": "stdout",
     "output_type": "stream",
     "text": [
      "_________________________________________________________________\n",
      "Layer (type)                 Output Shape              Param #   \n",
      "=================================================================\n",
      "input_1 (InputLayer)         (None, 150, 150, 3)       0         \n",
      "_________________________________________________________________\n",
      "block1_conv1 (Conv2D)        (None, 150, 150, 64)      1792      \n",
      "_________________________________________________________________\n",
      "block1_conv2 (Conv2D)        (None, 150, 150, 64)      36928     \n",
      "_________________________________________________________________\n",
      "block1_pool (MaxPooling2D)   (None, 75, 75, 64)        0         \n",
      "_________________________________________________________________\n",
      "block2_conv1 (Conv2D)        (None, 75, 75, 128)       73856     \n",
      "_________________________________________________________________\n",
      "block2_conv2 (Conv2D)        (None, 75, 75, 128)       147584    \n",
      "_________________________________________________________________\n",
      "block2_pool (MaxPooling2D)   (None, 37, 37, 128)       0         \n",
      "_________________________________________________________________\n",
      "block3_conv1 (Conv2D)        (None, 37, 37, 256)       295168    \n",
      "_________________________________________________________________\n",
      "block3_conv2 (Conv2D)        (None, 37, 37, 256)       590080    \n",
      "_________________________________________________________________\n",
      "block3_conv3 (Conv2D)        (None, 37, 37, 256)       590080    \n",
      "_________________________________________________________________\n",
      "block3_pool (MaxPooling2D)   (None, 18, 18, 256)       0         \n",
      "_________________________________________________________________\n",
      "block4_conv1 (Conv2D)        (None, 18, 18, 512)       1180160   \n",
      "_________________________________________________________________\n",
      "block4_conv2 (Conv2D)        (None, 18, 18, 512)       2359808   \n",
      "_________________________________________________________________\n",
      "block4_conv3 (Conv2D)        (None, 18, 18, 512)       2359808   \n",
      "_________________________________________________________________\n",
      "block4_pool (MaxPooling2D)   (None, 9, 9, 512)         0         \n",
      "_________________________________________________________________\n",
      "block5_conv1 (Conv2D)        (None, 9, 9, 512)         2359808   \n",
      "_________________________________________________________________\n",
      "block5_conv2 (Conv2D)        (None, 9, 9, 512)         2359808   \n",
      "_________________________________________________________________\n",
      "block5_conv3 (Conv2D)        (None, 9, 9, 512)         2359808   \n",
      "_________________________________________________________________\n",
      "block5_pool (MaxPooling2D)   (None, 4, 4, 512)         0         \n",
      "=================================================================\n",
      "Total params: 14,714,688\n",
      "Trainable params: 14,714,688\n",
      "Non-trainable params: 0\n",
      "_________________________________________________________________\n"
     ]
    }
   ],
   "source": [
    "from keras.applications import VGG16\n",
    "\n",
    "conv_vgg16 =VGG16(weights='imagenet', include_top=False,input_shape=(150,150,3))\n",
    "conv_vgg16.summary()"
   ]
  },
  {
   "cell_type": "code",
   "execution_count": 5,
   "metadata": {},
   "outputs": [],
   "source": [
    "for layer in conv_vgg16.layers:\n",
    "    layer.trainable = False"
   ]
  },
  {
   "cell_type": "code",
   "execution_count": 6,
   "metadata": {},
   "outputs": [
    {
     "name": "stderr",
     "output_type": "stream",
     "text": [
      "W0715 11:18:23.914422 15500 deprecation_wrapper.py:119] From c:\\users\\student\\appdata\\local\\programs\\python\\python37\\lib\\site-packages\\keras\\optimizers.py:790: The name tf.train.Optimizer is deprecated. Please use tf.compat.v1.train.Optimizer instead.\n",
      "\n",
      "W0715 11:18:23.920400 15500 deprecation.py:323] From c:\\users\\student\\appdata\\local\\programs\\python\\python37\\lib\\site-packages\\tensorflow\\python\\ops\\nn_impl.py:180: add_dispatch_support.<locals>.wrapper (from tensorflow.python.ops.array_ops) is deprecated and will be removed in a future version.\n",
      "Instructions for updating:\n",
      "Use tf.where in 2.0, which has the same broadcast rule as np.where\n"
     ]
    },
    {
     "name": "stdout",
     "output_type": "stream",
     "text": [
      "_________________________________________________________________\n",
      "Layer (type)                 Output Shape              Param #   \n",
      "=================================================================\n",
      "vgg16 (Model)                (None, 4, 4, 512)         14714688  \n",
      "_________________________________________________________________\n",
      "flatten_1 (Flatten)          (None, 8192)              0         \n",
      "_________________________________________________________________\n",
      "dense_1 (Dense)              (None, 256)               2097408   \n",
      "_________________________________________________________________\n",
      "dense_2 (Dense)              (None, 1)                 257       \n",
      "=================================================================\n",
      "Total params: 16,812,353\n",
      "Trainable params: 2,097,665\n",
      "Non-trainable params: 14,714,688\n",
      "_________________________________________________________________\n"
     ]
    }
   ],
   "source": [
    "from keras import models, layers, optimizers\n",
    "\n",
    "model = models.Sequential()\n",
    "\n",
    "model.add(conv_vgg16)\n",
    "model.add(layers.Flatten())\n",
    "model.add(layers.Dense(256, activation = 'relu'))\n",
    "model.add(layers.Dense(1, activation='sigmoid'))\n",
    "\n",
    "model.summary()\n",
    "\n",
    "model.compile(optimizer=optimizers.RMSprop(lr=1e-5),\n",
    "             loss='binary_crossentropy',\n",
    "              metrics=['acc'])\n",
    "\n",
    "\n",
    "              "
   ]
  },
  {
   "cell_type": "code",
   "execution_count": 7,
   "metadata": {
    "scrolled": true
   },
   "outputs": [
    {
     "name": "stdout",
     "output_type": "stream",
     "text": [
      "WARNING:tensorflow:From C:\\Users\\young\\Anaconda3\\envs\\env\\lib\\site-packages\\tensorflow\\python\\ops\\math_ops.py:3066: to_int32 (from tensorflow.python.ops.math_ops) is deprecated and will be removed in a future version.\n",
      "Instructions for updating:\n",
      "Use tf.cast instead.\n",
      "Epoch 1/10\n",
      "100/100 [==============================] - 15s 150ms/step - loss: 0.6181 - acc: 0.6765 - val_loss: 0.5202 - val_acc: 0.7990\n",
      "Epoch 2/10\n",
      "100/100 [==============================] - 12s 119ms/step - loss: 0.4753 - acc: 0.8130 - val_loss: 0.4192 - val_acc: 0.8420\n",
      "Epoch 3/10\n",
      "100/100 [==============================] - 12s 118ms/step - loss: 0.4037 - acc: 0.8375 - val_loss: 0.3663 - val_acc: 0.8690\n",
      "Epoch 4/10\n",
      "100/100 [==============================] - 12s 119ms/step - loss: 0.3612 - acc: 0.8615 - val_loss: 0.3370 - val_acc: 0.8700\n",
      "Epoch 5/10\n",
      "100/100 [==============================] - 12s 119ms/step - loss: 0.3290 - acc: 0.8750 - val_loss: 0.3162 - val_acc: 0.8900\n",
      "Epoch 6/10\n",
      "100/100 [==============================] - 12s 118ms/step - loss: 0.3110 - acc: 0.8795 - val_loss: 0.2967 - val_acc: 0.8900\n",
      "Epoch 7/10\n",
      "100/100 [==============================] - 12s 118ms/step - loss: 0.2891 - acc: 0.8900 - val_loss: 0.2877 - val_acc: 0.8850\n",
      "Epoch 8/10\n",
      "100/100 [==============================] - 12s 119ms/step - loss: 0.2757 - acc: 0.8920 - val_loss: 0.2785 - val_acc: 0.8900\n",
      "Epoch 9/10\n",
      "100/100 [==============================] - 12s 117ms/step - loss: 0.2714 - acc: 0.8965 - val_loss: 0.2727 - val_acc: 0.9060\n",
      "Epoch 10/10\n",
      "100/100 [==============================] - 12s 117ms/step - loss: 0.2513 - acc: 0.9140 - val_loss: 0.2636 - val_acc: 0.8920\n"
     ]
    }
   ],
   "source": [
    "history = model.fit_generator(train_gen,\n",
    "                              steps_per_epoch = 100,\n",
    "                              epochs = 10,\n",
    "                              validation_data = val_gen,\n",
    "                              validation_steps = 50\n",
    ")"
   ]
  },
  {
   "cell_type": "code",
   "execution_count": 7,
   "metadata": {},
   "outputs": [
    {
     "name": "stdout",
     "output_type": "stream",
     "text": [
      "0 input_1\n",
      "1 block1_conv1\n",
      "2 block1_conv2\n",
      "3 block1_pool\n",
      "4 block2_conv1\n",
      "5 block2_conv2\n",
      "6 block2_pool\n",
      "7 block3_conv1\n",
      "8 block3_conv2\n",
      "9 block3_conv3\n",
      "10 block3_pool\n",
      "11 block4_conv1\n",
      "12 block4_conv2\n",
      "13 block4_conv3\n",
      "14 block4_pool\n",
      "15 block5_conv1\n",
      "16 block5_conv2\n",
      "17 block5_conv3\n",
      "18 block5_pool\n"
     ]
    }
   ],
   "source": [
    "# fine tuning\n",
    "\n",
    "for i, layer in enumerate(conv_vgg16.layers):\n",
    "    print(i, layer.name)"
   ]
  },
  {
   "cell_type": "code",
   "execution_count": 9,
   "metadata": {},
   "outputs": [],
   "source": [
    "for layer in conv_vgg16.layers[:15]:\n",
    "    layer.trainable = False\n",
    "for layer in conv_vgg16.layers[15:]:\n",
    "    layer.trainable = True"
   ]
  },
  {
   "cell_type": "code",
   "execution_count": 10,
   "metadata": {},
   "outputs": [],
   "source": [
    "model.compile(optimizer=optimizers.RMSprop(lr=1e-6),\n",
    "             loss='binary_crossentropy',\n",
    "             metrics=['acc'])\n"
   ]
  },
  {
   "cell_type": "code",
   "execution_count": 11,
   "metadata": {},
   "outputs": [
    {
     "name": "stdout",
     "output_type": "stream",
     "text": [
      "Epoch 1/10\n",
      "100/100 [==============================] - 13s 129ms/step - loss: 0.2437 - acc: 0.9120 - val_loss: 0.2563 - val_acc: 0.8960\n",
      "Epoch 2/10\n",
      "100/100 [==============================] - 12s 118ms/step - loss: 0.2219 - acc: 0.9180 - val_loss: 0.2466 - val_acc: 0.8930\n",
      "Epoch 3/10\n",
      "100/100 [==============================] - 12s 117ms/step - loss: 0.2012 - acc: 0.9260 - val_loss: 0.2320 - val_acc: 0.9040\n",
      "Epoch 4/10\n",
      "100/100 [==============================] - 12s 118ms/step - loss: 0.2039 - acc: 0.9305 - val_loss: 0.2110 - val_acc: 0.9110\n",
      "Epoch 5/10\n",
      "100/100 [==============================] - 12s 117ms/step - loss: 0.1933 - acc: 0.9280 - val_loss: 0.2449 - val_acc: 0.89601s - loss\n",
      "Epoch 6/10\n",
      "100/100 [==============================] - 12s 117ms/step - loss: 0.1736 - acc: 0.9380 - val_loss: 0.2156 - val_acc: 0.9160\n",
      "Epoch 7/10\n",
      "100/100 [==============================] - 12s 117ms/step - loss: 0.1856 - acc: 0.9275 - val_loss: 0.2087 - val_acc: 0.9070\n",
      "Epoch 8/10\n",
      "100/100 [==============================] - 12s 119ms/step - loss: 0.1632 - acc: 0.9395 - val_loss: 0.2079 - val_acc: 0.9050\n",
      "Epoch 9/10\n",
      "100/100 [==============================] - 12s 118ms/step - loss: 0.1552 - acc: 0.9450 - val_loss: 0.2107 - val_acc: 0.9130\n",
      "Epoch 10/10\n",
      "100/100 [==============================] - 12s 117ms/step - loss: 0.1578 - acc: 0.9430 - val_loss: 0.1938 - val_acc: 0.9170\n"
     ]
    }
   ],
   "source": [
    "history = model.fit_generator(train_gen,\n",
    "                              steps_per_epoch = 100,\n",
    "                              epochs = 10,\n",
    "                              validation_data = val_gen,\n",
    "                              validation_steps = 50\n",
    ")"
   ]
  },
  {
   "cell_type": "code",
   "execution_count": null,
   "metadata": {},
   "outputs": [],
   "source": []
  }
 ],
 "metadata": {
  "kernelspec": {
   "display_name": "Python 3",
   "language": "python",
   "name": "python3"
  },
  "language_info": {
   "codemirror_mode": {
    "name": "ipython",
    "version": 3
   },
   "file_extension": ".py",
   "mimetype": "text/x-python",
   "name": "python",
   "nbconvert_exporter": "python",
   "pygments_lexer": "ipython3",
   "version": "3.7.4"
  },
  "toc": {
   "base_numbering": 1,
   "nav_menu": {},
   "number_sections": true,
   "sideBar": true,
   "skip_h1_title": false,
   "title_cell": "Table of Contents",
   "title_sidebar": "Contents",
   "toc_cell": false,
   "toc_position": {},
   "toc_section_display": true,
   "toc_window_display": false
  }
 },
 "nbformat": 4,
 "nbformat_minor": 2
}
