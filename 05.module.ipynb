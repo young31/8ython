{
 "cells": [
  {
   "cell_type": "markdown",
   "metadata": {},
   "source": [
    "# 모듈\n",
    "모듈은 파이썬 정의와 문장들을 담고 있는 파일입니다. 파일의 이름은 모듈 이름에 확장자 `.py` 를 붙입니다. "
   ]
  },
  {
   "cell_type": "markdown",
   "metadata": {},
   "source": [
    "## 모듈을 만들어봅시다."
   ]
  },
  {
   "cell_type": "markdown",
   "metadata": {},
   "source": [
    "- jupyter notebook 파일트리화면에서 New > Text File\n",
    "- 파일의 이름을 fibo.py 로 저장"
   ]
  },
  {
   "cell_type": "code",
   "execution_count": null,
   "metadata": {},
   "outputs": [],
   "source": [
    "# 함수에서 작성했던 피보나치 함수 두가지(재귀, 반복문)를 작성합니다.\n",
    "\n",
    "def fib_recur(n):\n",
    "    if n <= 1:\n",
    "        return 1\n",
    "    return fib(n-2)+fib(n-1)\n",
    "\n",
    "def fib_loop(n):\n",
    "    ex = 1\n",
    "    an = 1\n",
    "    if n >= 2:\n",
    "        for i in range(2,n+1):\n",
    "            an, ex = an + ex, an\n",
    "    return an"
   ]
  },
  {
   "cell_type": "markdown",
   "metadata": {},
   "source": [
    "## `import`\n",
    "* 모듈을 활용하기 위해서는 반드시 `import`문을 통해 내장 모듈을 이름 공간으로 가져와야합니다."
   ]
  },
  {
   "cell_type": "code",
   "execution_count": 152,
   "metadata": {},
   "outputs": [
    {
     "data": {
      "text/plain": [
       "['__builtins__',\n",
       " '__cached__',\n",
       " '__doc__',\n",
       " '__file__',\n",
       " '__loader__',\n",
       " '__name__',\n",
       " '__package__',\n",
       " '__spec__',\n",
       " 'fib_loop',\n",
       " 'fib_recur']"
      ]
     },
     "execution_count": 152,
     "metadata": {},
     "output_type": "execute_result"
    }
   ],
   "source": [
    "# import를 이용하여 fibo.py를 가져옵니다\n",
    "\n",
    "import fib\n",
    "\n",
    "dir(fib)"
   ]
  },
  {
   "cell_type": "code",
   "execution_count": 2,
   "metadata": {},
   "outputs": [
    {
     "data": {
      "text/plain": [
       "89"
      ]
     },
     "execution_count": 2,
     "metadata": {},
     "output_type": "execute_result"
    }
   ],
   "source": [
    "fib.fib_loop(10)"
   ]
  },
  {
   "cell_type": "code",
   "execution_count": 3,
   "metadata": {},
   "outputs": [
    {
     "data": {
      "text/plain": [
       "89"
      ]
     },
     "execution_count": 3,
     "metadata": {},
     "output_type": "execute_result"
    }
   ],
   "source": [
    "fib.fib_recur(10)"
   ]
  },
  {
   "cell_type": "code",
   "execution_count": 5,
   "metadata": {},
   "outputs": [
    {
     "data": {
      "text/plain": [
       "89"
      ]
     },
     "execution_count": 5,
     "metadata": {},
     "output_type": "execute_result"
    }
   ],
   "source": [
    "# 함수를 자주 사용할거라면, 변수에 할당해서 사용할 수도 있습니다.\n",
    "\n",
    "fibo = fib.fib_loop\n",
    "# fibo = fib.~()  >>  요래 주면 return 값을 넘겨주겠다는 의미로 차이가 있음\n",
    "fibo(10)"
   ]
  },
  {
   "cell_type": "markdown",
   "metadata": {},
   "source": [
    "## 패키지"
   ]
  },
  {
   "cell_type": "markdown",
   "metadata": {},
   "source": [
    "- jupyter notebook 파일트리화면에서 New > Folder\n",
    "- 다음과 같은 폴더구조 생성\n",
    "\n",
    "```python\n",
    "myPackage/\n",
    "    __init__.py\n",
    "    math/\n",
    "        __init__.py\n",
    "        formula.py\n",
    "    web/\n",
    "        __init__.py\n",
    "        url.py\n",
    "```\n",
    "- 패키지는 '점으로 구분된 모듈 이름' 를 써서 파이썬의 모듈 이름 공간을 구조화하는 방법입니다. 예를 들어, 모듈 이름 `myPackage.math` 는 `myPackage` 라는 이름의 패키지에 있는 `math` 라는 이름의 서브 모듈을 가리킵니다.\n",
    "\n",
    "\n",
    "- 단, 파이썬이 디렉터리를 패키지로 취급하게 만들기 위해서 `__init__.py` 파일이 필요합니다. 이렇게 하는 이유는 string 처럼 흔히 쓰는 이름의 디렉터리가, 의도하지 않게 모듈 검색 경로의 뒤에 등장하는 올바른 모듈들을 가리는 일을 방지하기 위함입니다."
   ]
  },
  {
   "cell_type": "code",
   "execution_count": null,
   "metadata": {},
   "outputs": [],
   "source": [
    "# math/formula.py"
   ]
  },
  {
   "cell_type": "code",
   "execution_count": null,
   "metadata": {},
   "outputs": [],
   "source": [
    "# web/url.py"
   ]
  },
  {
   "cell_type": "markdown",
   "metadata": {},
   "source": [
    "* `import`는 다양한 방법으로 할 수 있습니다.\n",
    "\n",
    "## `from` *모듈명* `import` *어트리뷰트*\n",
    "\n",
    "특정한 함수 혹은 어트리뷰트만 활용하고 싶을 때, 위와 같이 작성합니다."
   ]
  },
  {
   "cell_type": "code",
   "execution_count": 16,
   "metadata": {
    "scrolled": false
   },
   "outputs": [
    {
     "data": {
      "text/plain": [
       "['__builtins__',\n",
       " '__cached__',\n",
       " '__doc__',\n",
       " '__file__',\n",
       " '__loader__',\n",
       " '__name__',\n",
       " '__package__',\n",
       " '__path__',\n",
       " '__spec__',\n",
       " 'math',\n",
       " 'web']"
      ]
     },
     "execution_count": 16,
     "metadata": {},
     "output_type": "execute_result"
    }
   ],
   "source": [
    "# 패키지를 import 해봅시다.\n",
    "\n",
    "import myPackage\n",
    "dir(myPackage)\n",
    "\n",
    "# import해야 경로가 생기네"
   ]
  },
  {
   "cell_type": "code",
   "execution_count": 11,
   "metadata": {},
   "outputs": [
    {
     "data": {
      "text/plain": [
       "'필수 요청변수가 누락되었습니다.'"
      ]
     },
     "execution_count": 11,
     "metadata": {},
     "output_type": "execute_result"
    }
   ],
   "source": [
    "# web 모듈을 추가해봅시다.\n",
    "\n",
    "from myPackage.web import url\n",
    "url.my_url()"
   ]
  },
  {
   "cell_type": "markdown",
   "metadata": {},
   "source": [
    "## `from` *모듈명* `import` `*`\n",
    "\n",
    "해당하는 모듈 내의 모든 변수, 함수, 클래스를 가져옵니다."
   ]
  },
  {
   "cell_type": "code",
   "execution_count": 19,
   "metadata": {},
   "outputs": [
    {
     "name": "stdout",
     "output_type": "stream",
     "text": [
      "3.14\n",
      "10 is bigger\n"
     ]
    }
   ],
   "source": [
    "# formula 모듈에서 모든 변수와 함수를 가져와봅시다.\n",
    "\n",
    "from myPackage.math.formula import *\n",
    "\n",
    "print(pi)\n",
    "my_max(10, 5)"
   ]
  },
  {
   "cell_type": "markdown",
   "metadata": {},
   "source": [
    "## `from` *모듈명* `import` *어트리뷰트*  `as` \n",
    "\n",
    "내가 지정하는 이름을 붙여 가져올 수 있습니다."
   ]
  },
  {
   "cell_type": "code",
   "execution_count": 29,
   "metadata": {},
   "outputs": [
    {
     "data": {
      "text/plain": [
       "'필수 요청변수가 누락되었습니다.'"
      ]
     },
     "execution_count": 29,
     "metadata": {},
     "output_type": "execute_result"
    }
   ],
   "source": [
    "from myPackage.web.url import my_url as api_url\n",
    "\n",
    "api_url()  # my_url호출하면 not defined"
   ]
  },
  {
   "cell_type": "markdown",
   "metadata": {},
   "source": [
    "## 파이썬 기본 모듈"
   ]
  },
  {
   "cell_type": "markdown",
   "metadata": {},
   "source": [
    "python에는 기본적으로 제공되는 모듈들이 있습니다.\n",
    "\n",
    "[표준 라이브러리](https://docs.python.org/ko/3/library/index.html)에서 제공되는 모듈을 확인해보세요!\n",
    "\n",
    "여기 있는 모든 내용을 외울 필요도 없고, 이런 것이 있다만 확인해보세요 :)\n",
    "\n",
    "우리가 사용했던 `random` 역시도 표준라이브러리에서 제공되고 있는 모듈이며, 난수를 발생시키는 모듈입니다."
   ]
  },
  {
   "cell_type": "code",
   "execution_count": 33,
   "metadata": {},
   "outputs": [
    {
     "data": {
      "text/plain": [
       "[25, 42, 41, 18, 39, 31]"
      ]
     },
     "execution_count": 33,
     "metadata": {},
     "output_type": "execute_result"
    }
   ],
   "source": [
    "# 로또 번호 추천을 해보세요!\n",
    "import random\n",
    "\n",
    "random.choices(range(1, 46), k=6)  # 복원\n",
    "random.sample(range(1, 46), k=6)  # 비복원"
   ]
  },
  {
   "cell_type": "markdown",
   "metadata": {},
   "source": [
    "# 숫자 관련 함수\n",
    "\n",
    "이외에도 분수(frctions), 십진(decimal), 통계(statistics)등이 있습니다.\n",
    "\n",
    "\n",
    "## 수학 관련 함수(math)"
   ]
  },
  {
   "cell_type": "markdown",
   "metadata": {},
   "source": [
    "다음의 기본 함수는 `import`없이 활용하였습니다. \n",
    "\n",
    "`sum`, `max`, `min`, `abs`, `pow`, `round`, `divmod`"
   ]
  },
  {
   "cell_type": "code",
   "execution_count": 34,
   "metadata": {},
   "outputs": [],
   "source": [
    "import math"
   ]
  },
  {
   "cell_type": "markdown",
   "metadata": {},
   "source": [
    "* 활용할 수 있는 상수는 다음과 같습니다."
   ]
  },
  {
   "cell_type": "code",
   "execution_count": 35,
   "metadata": {},
   "outputs": [
    {
     "data": {
      "text/plain": [
       "3.141592653589793"
      ]
     },
     "execution_count": 35,
     "metadata": {},
     "output_type": "execute_result"
    }
   ],
   "source": [
    "# 원주율(pi)\n",
    "math.pi"
   ]
  },
  {
   "cell_type": "code",
   "execution_count": 36,
   "metadata": {},
   "outputs": [
    {
     "data": {
      "text/plain": [
       "2.718281828459045"
      ]
     },
     "execution_count": 36,
     "metadata": {},
     "output_type": "execute_result"
    }
   ],
   "source": [
    "# 자연 로그의 밑 (상수 e)\n",
    "math.e"
   ]
  },
  {
   "cell_type": "markdown",
   "metadata": {},
   "source": [
    "* 활용할 수 있는 연산 관련 함수는 다음과 같습니다.\n",
    "\n",
    "|함수|비고|\n",
    "|---|---|\n",
    "|math.ceil(x)|소수점 올림|\n",
    "|math.floor(x)|소수점 내림|\n",
    "|math.trunc(x)|소수점 버림|\n",
    "|math.copysign(x, y)|y의 부호를 x에 적용한 값|\n",
    "|math.fabs(x)|float 절대값 - 복소수 오류 발생|\n",
    "|math.factorial(x)|팩토리얼 계산 값|\n",
    "|math.fmod(x, y)|float 나머지 계산|\n",
    "|math.fsum(iterable)|float 합|\n",
    "|math.modf(x)|소수부 정수부 분리|"
   ]
  },
  {
   "cell_type": "code",
   "execution_count": 37,
   "metadata": {},
   "outputs": [
    {
     "data": {
      "text/plain": [
       "4"
      ]
     },
     "execution_count": 37,
     "metadata": {},
     "output_type": "execute_result"
    }
   ],
   "source": [
    "# 올림\n",
    "math.ceil(math.pi)"
   ]
  },
  {
   "cell_type": "code",
   "execution_count": 38,
   "metadata": {},
   "outputs": [
    {
     "data": {
      "text/plain": [
       "3"
      ]
     },
     "execution_count": 38,
     "metadata": {},
     "output_type": "execute_result"
    }
   ],
   "source": [
    "# 내림\n",
    "math.floor(math.pi)"
   ]
  },
  {
   "cell_type": "code",
   "execution_count": 39,
   "metadata": {},
   "outputs": [
    {
     "data": {
      "text/plain": [
       "3"
      ]
     },
     "execution_count": 39,
     "metadata": {},
     "output_type": "execute_result"
    }
   ],
   "source": [
    "# 버림\n",
    "math.trunc(math.pi)"
   ]
  },
  {
   "cell_type": "code",
   "execution_count": 40,
   "metadata": {},
   "outputs": [
    {
     "name": "stdout",
     "output_type": "stream",
     "text": [
      "-3\n",
      "-4\n"
     ]
    }
   ],
   "source": [
    "# 내림과 버림은 음수에서 처리가 다르다.\n",
    "print(math.trunc(-math.pi))\n",
    "print(math.floor(-math.pi))"
   ]
  },
  {
   "cell_type": "code",
   "execution_count": 50,
   "metadata": {},
   "outputs": [
    {
     "name": "stdout",
     "output_type": "stream",
     "text": [
      "1.4500000000000002\n",
      "-1.5499999999999998\n"
     ]
    }
   ],
   "source": [
    "# 프로그래밍에서 나눗셈은 음수로 하거나 양수로 하거나 두가지 상황이 있습니다. \n",
    "# % 는 정수를, fmod 는 float를\n",
    "# 부호가 다른 경우 서로 다르게 출력합니다.\n",
    "\n",
    "print(-4.55 % 3)\n",
    "print(math.fmod(-4.55, 3))"
   ]
  },
  {
   "cell_type": "markdown",
   "metadata": {},
   "source": [
    "* 로그, 지수 연산은 다음과 같습니다. \n",
    "\n",
    "|함수|비고|\n",
    "|---|---|\n",
    "|math.pow(x,y)|x의 y제곱의 결과|\n",
    "|math.sqrt(x)|x의 제곱근의 결과|\n",
    "|math.exp(x)|e^x 결과|\n",
    "|math.log(x[, base])|밑을 base로 하는 logx (base default 값은 e)|"
   ]
  },
  {
   "cell_type": "code",
   "execution_count": 51,
   "metadata": {},
   "outputs": [
    {
     "data": {
      "text/plain": [
       "8.0"
      ]
     },
     "execution_count": 51,
     "metadata": {},
     "output_type": "execute_result"
    }
   ],
   "source": [
    "# 제곱\n",
    "math.pow(2,3)"
   ]
  },
  {
   "cell_type": "code",
   "execution_count": 53,
   "metadata": {},
   "outputs": [
    {
     "data": {
      "text/plain": [
       "2.0"
      ]
     },
     "execution_count": 53,
     "metadata": {},
     "output_type": "execute_result"
    }
   ],
   "source": [
    "# 제곱근\n",
    "math.sqrt(4)"
   ]
  },
  {
   "cell_type": "code",
   "execution_count": 54,
   "metadata": {},
   "outputs": [
    {
     "data": {
      "text/plain": [
       "7.38905609893065"
      ]
     },
     "execution_count": 54,
     "metadata": {},
     "output_type": "execute_result"
    }
   ],
   "source": [
    "# e\n",
    "math.exp(2)"
   ]
  },
  {
   "cell_type": "code",
   "execution_count": 59,
   "metadata": {},
   "outputs": [
    {
     "data": {
      "text/plain": [
       "1.5849625007211563"
      ]
     },
     "execution_count": 59,
     "metadata": {},
     "output_type": "execute_result"
    }
   ],
   "source": [
    "# 로그 계산\n",
    "math.log(3, 2)"
   ]
  },
  {
   "cell_type": "markdown",
   "metadata": {},
   "source": [
    "* 삼각함수는 다음과 같습니다. \n",
    "\n",
    "```\n",
    "sin, cos, tan\n",
    "asin, acos, atan, \n",
    "sinh, cosh, tanh,\n",
    "ashinh, acosh, atanh\n",
    "```"
   ]
  },
  {
   "cell_type": "code",
   "execution_count": 62,
   "metadata": {},
   "outputs": [
    {
     "data": {
      "text/plain": [
       "-1.0"
      ]
     },
     "execution_count": 62,
     "metadata": {},
     "output_type": "execute_result"
    }
   ],
   "source": [
    "# 삼각함수를 사용해봅시다.\n",
    "math.tanh(-180)"
   ]
  },
  {
   "cell_type": "markdown",
   "metadata": {},
   "source": [
    "## 난수 발생관련 함수(random)"
   ]
  },
  {
   "cell_type": "code",
   "execution_count": null,
   "metadata": {},
   "outputs": [],
   "source": [
    "import random"
   ]
  },
  {
   "cell_type": "code",
   "execution_count": 77,
   "metadata": {},
   "outputs": [
    {
     "data": {
      "text/plain": [
       "0.8069008928598272"
      ]
     },
     "execution_count": 77,
     "metadata": {},
     "output_type": "execute_result"
    }
   ],
   "source": [
    "# 난수 생성\n",
    "random.random()"
   ]
  },
  {
   "cell_type": "code",
   "execution_count": 80,
   "metadata": {},
   "outputs": [
    {
     "data": {
      "text/plain": [
       "10"
      ]
     },
     "execution_count": 80,
     "metadata": {},
     "output_type": "execute_result"
    }
   ],
   "source": [
    "# 임의의 정수 반환\n",
    "random.randint(1, 10)"
   ]
  },
  {
   "cell_type": "code",
   "execution_count": 101,
   "metadata": {},
   "outputs": [
    {
     "data": {
      "text/plain": [
       "0.4745706786885481"
      ]
     },
     "execution_count": 101,
     "metadata": {},
     "output_type": "execute_result"
    }
   ],
   "source": [
    "# seed\n",
    "# 경우에 따라서(보통 디버깅 등을 위해 ) 동일한 순서로 난수를 발생시켜야 할 경우가 있다. \n",
    "# 난수 발생을 위해서는 적절한 시드(seed)를 난수발생기에 주어야 한다. \n",
    "# 만약 시드가 같다면 동일한 난수를 발생시키게 된다. \n",
    "# 시드 설정을 하지 않으면 현재 시간을 기반으로 만든다.\n"
   ]
  },
  {
   "cell_type": "code",
   "execution_count": 105,
   "metadata": {},
   "outputs": [
    {
     "data": {
      "text/plain": [
       "4.7457067868854804e+19"
      ]
     },
     "execution_count": 105,
     "metadata": {},
     "output_type": "execute_result"
    }
   ],
   "source": [
    "# 시드 설정 후에 첫번째 값을 확인해보자\n",
    "random.seed(12)\n",
    "random.random()"
   ]
  },
  {
   "cell_type": "code",
   "execution_count": 110,
   "metadata": {},
   "outputs": [
    {
     "data": {
      "text/plain": [
       "['dd', 'ee', 'aa', 'ff', 'cc', 'bb']"
      ]
     },
     "execution_count": 110,
     "metadata": {},
     "output_type": "execute_result"
    }
   ],
   "source": [
    "# 시퀀스 객체를 섞는다.\n",
    "names= ['aa', 'bb', 'cc', 'dd', 'ee', 'ff']\n",
    "random.shuffle(names)\n",
    "names"
   ]
  },
  {
   "cell_type": "markdown",
   "metadata": {},
   "source": [
    "# 날짜 관련 모듈\n",
    "\n",
    "## datetime"
   ]
  },
  {
   "cell_type": "code",
   "execution_count": 115,
   "metadata": {
    "scrolled": true
   },
   "outputs": [
    {
     "data": {
      "text/plain": [
       "datetime.datetime(2019, 7, 22, 14, 47, 4, 373204)"
      ]
     },
     "execution_count": 115,
     "metadata": {},
     "output_type": "execute_result"
    }
   ],
   "source": [
    "# 1970년 1월 1일부터 1초씩 증가합니다.\n",
    "# 오늘을 출력해봅시다.\n",
    "from datetime import datetime\n",
    "\n",
    "datetime.now()"
   ]
  },
  {
   "cell_type": "code",
   "execution_count": 116,
   "metadata": {},
   "outputs": [
    {
     "data": {
      "text/plain": [
       "datetime.datetime(2019, 7, 22, 14, 48, 15, 895066)"
      ]
     },
     "execution_count": 116,
     "metadata": {},
     "output_type": "execute_result"
    }
   ],
   "source": [
    "# 오늘을 출력하는 다른 방법도 있습니다.\n",
    "datetime.today()"
   ]
  },
  {
   "cell_type": "code",
   "execution_count": 117,
   "metadata": {
    "scrolled": true
   },
   "outputs": [
    {
     "data": {
      "text/plain": [
       "datetime.datetime(2019, 7, 22, 5, 48, 30, 777474)"
      ]
     },
     "execution_count": 117,
     "metadata": {},
     "output_type": "execute_result"
    }
   ],
   "source": [
    "# UTC기준시도 출력가능합니다.\n",
    "datetime.utcnow()"
   ]
  },
  {
   "cell_type": "markdown",
   "metadata": {},
   "source": [
    "* 시간 형식지정\n",
    "\n",
    "|형식 지시자(directive)|의미|\n",
    "|-------------------|---|\n",
    "|%y|연도표기(00~99)|\n",
    "|%Y|연도표기(전체)|\n",
    "|%b|월 이름(축약)|\n",
    "|%B|월 이름(전체)|\n",
    "|%m|월 숫자(01~12)|\n",
    "|%d|일(01~31)|\n",
    "|%H|24시간 기준(00~23)|\n",
    "|%I|12시간 기준(01~12)|\n",
    "|%M|분(00~59)|\n",
    "|%S|초(00~61)|\n",
    "|%p|오전/오후|\n",
    "|%a|요일(축약)|\n",
    "|%A|요일(전체)|\n",
    "|%w|요일(숫자 : 일요일(0))|\n",
    "|%j|1월 1일부터 누적 날짜|"
   ]
  },
  {
   "cell_type": "code",
   "execution_count": 126,
   "metadata": {},
   "outputs": [
    {
     "data": {
      "text/plain": [
       "'2019 Jul 22'"
      ]
     },
     "execution_count": 126,
     "metadata": {},
     "output_type": "execute_result"
    }
   ],
   "source": [
    "# 내가 원하는대로 예쁘게 출력해봅시다.\n",
    "\n",
    "now = datetime.now()\n",
    "now.strftime('%Y %b %d')"
   ]
  },
  {
   "cell_type": "markdown",
   "metadata": {},
   "source": [
    "|속성/메소드|내용|\n",
    "|-------------------|---|\n",
    "|.year|년|\n",
    "|.month|월|\n",
    "|.day|일|\n",
    "|.hour|시|\n",
    "|.minute|분|\n",
    "|.second|초|\n",
    "|.weekday()|월요일을 0부터 6까지|"
   ]
  },
  {
   "cell_type": "code",
   "execution_count": 129,
   "metadata": {},
   "outputs": [
    {
     "name": "stdout",
     "output_type": "stream",
     "text": [
      "2019\n",
      "0\n"
     ]
    }
   ],
   "source": [
    "# 속성을 출력해봅시다.\n",
    "print(now.year)\n",
    "print(now.weekday())"
   ]
  },
  {
   "cell_type": "code",
   "execution_count": null,
   "metadata": {},
   "outputs": [],
   "source": [
    "# 월요일을 시작으로 0~6"
   ]
  },
  {
   "cell_type": "markdown",
   "metadata": {},
   "source": [
    "* 특정한 날짜 만들기\n",
    "\n",
    "`datetime(year, month, day, hour, minute, second, microsecond)`"
   ]
  },
  {
   "cell_type": "code",
   "execution_count": 130,
   "metadata": {},
   "outputs": [],
   "source": [
    "# 크리스마스를 만들어봅시다.\n",
    "chrsit = datetime(2019, 12, 25)"
   ]
  },
  {
   "cell_type": "code",
   "execution_count": 132,
   "metadata": {},
   "outputs": [
    {
     "data": {
      "text/plain": [
       "'2019 12 25 Wed'"
      ]
     },
     "execution_count": 132,
     "metadata": {},
     "output_type": "execute_result"
    }
   ],
   "source": [
    "# 예쁘게 출력해봅시다.\n",
    "chrsit.strftime('%Y %m %d %a')"
   ]
  },
  {
   "cell_type": "markdown",
   "metadata": {},
   "source": [
    "## timedelta\n",
    "\n",
    "```python\n",
    "from datetime import timedelta\n",
    "```"
   ]
  },
  {
   "cell_type": "code",
   "execution_count": 133,
   "metadata": {},
   "outputs": [],
   "source": [
    "from datetime import timedelta"
   ]
  },
  {
   "cell_type": "code",
   "execution_count": 134,
   "metadata": {},
   "outputs": [
    {
     "name": "stdout",
     "output_type": "stream",
     "text": [
      "-3 days, 0:00:00\n"
     ]
    }
   ],
   "source": [
    "# 활용해봅시다.\n",
    "\n",
    "ago = timedelta(days=-3)\n",
    "print(ago)  # 시간연산입니다"
   ]
  },
  {
   "cell_type": "code",
   "execution_count": 136,
   "metadata": {},
   "outputs": [
    {
     "name": "stdout",
     "output_type": "stream",
     "text": [
      "2019-07-19 15:14:51.056453\n"
     ]
    }
   ],
   "source": [
    "# 비교 및 연산이 가능합니다.\n",
    "print(now + ago)"
   ]
  },
  {
   "cell_type": "code",
   "execution_count": 139,
   "metadata": {},
   "outputs": [
    {
     "name": "stdout",
     "output_type": "stream",
     "text": [
      "2019-10-30 15:14:51.056453\n"
     ]
    }
   ],
   "source": [
    "# 오늘부터 1일일 때, 100일 뒤는?\n",
    "\n",
    "print(now + timedelta(days=100))"
   ]
  },
  {
   "cell_type": "code",
   "execution_count": 147,
   "metadata": {},
   "outputs": [
    {
     "name": "stdout",
     "output_type": "stream",
     "text": [
      "209 days, 15:14:51.056453\n"
     ]
    }
   ],
   "source": [
    "# 크리스마스부터 지금까지 얼마나 지났을까?\n",
    "print(now - datetime(2018, 12, 25))"
   ]
  },
  {
   "cell_type": "code",
   "execution_count": 151,
   "metadata": {},
   "outputs": [
    {
     "name": "stdout",
     "output_type": "stream",
     "text": [
      "18112491.056453\n"
     ]
    }
   ],
   "source": [
    "# 초로 만들어봅시다.\n",
    "diff_sec = (now - datetime(2018, 12, 25)).total_seconds()\n",
    "print(diff_sec)"
   ]
  },
  {
   "cell_type": "code",
   "execution_count": null,
   "metadata": {},
   "outputs": [],
   "source": [
    "# 아래에 초를 예쁘게 출력하는 함수 print_time_delta() 를 만들어봅시다.\n",
    "# 예시 => '10일 1시간 18분 51초 전'\n"
   ]
  },
  {
   "cell_type": "code",
   "execution_count": null,
   "metadata": {},
   "outputs": [],
   "source": [
    "# 모듈은 하나의 파이썬 파일\n",
    "# 모듈이 하나의 목적을 위해 모인 것이 패키지\n",
    "# 모듈들을 파이썬에서 제공하는 라이브러리로 모은 것이 파이썬 표준 라이브러리"
   ]
  }
 ],
 "metadata": {
  "kernelspec": {
   "display_name": "Python 3",
   "language": "python",
   "name": "python3"
  },
  "language_info": {
   "codemirror_mode": {
    "name": "ipython",
    "version": 3
   },
   "file_extension": ".py",
   "mimetype": "text/x-python",
   "name": "python",
   "nbconvert_exporter": "python",
   "pygments_lexer": "ipython3",
   "version": "3.7.3"
  },
  "latex_envs": {
   "LaTeX_envs_menu_present": true,
   "autoclose": false,
   "autocomplete": true,
   "bibliofile": "biblio.bib",
   "cite_by": "apalike",
   "current_citInitial": 1,
   "eqLabelWithNumbers": true,
   "eqNumInitial": 1,
   "hotkeys": {
    "equation": "Ctrl-E",
    "itemize": "Ctrl-I"
   },
   "labels_anchors": false,
   "latex_user_defs": false,
   "report_style_numbering": false,
   "user_envs_cfg": false
  },
  "toc": {
   "base_numbering": 1,
   "nav_menu": {},
   "number_sections": false,
   "sideBar": true,
   "skip_h1_title": false,
   "title_cell": "Table of Contents",
   "title_sidebar": "Contents",
   "toc_cell": false,
   "toc_position": {
    "height": "calc(100% - 180px)",
    "left": "10px",
    "top": "150px",
    "width": "165px"
   },
   "toc_section_display": true,
   "toc_window_display": false
  }
 },
 "nbformat": 4,
 "nbformat_minor": 2
}
